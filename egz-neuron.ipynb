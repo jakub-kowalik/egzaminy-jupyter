{
 "cells": [
  {
   "cell_type": "code",
   "execution_count": 617,
   "metadata": {
    "collapsed": true,
    "pycharm": {
     "name": "#%%\n"
    }
   },
   "outputs": [],
   "source": [
    "import numpy as np"
   ]
  },
  {
   "cell_type": "code",
   "execution_count": 618,
   "outputs": [],
   "source": [
    "threshold = 0.5\n",
    "\n",
    "def f_1(s):\n",
    "    return 1 / (1 + np.e ** (-s))\n",
    "\n",
    "\n",
    "def fd_1(s):\n",
    "    return s * (1 - s)\n",
    "\n",
    "def f_activation(x):\n",
    "    return np.where(x > threshold, 1, 0)"
   ],
   "metadata": {
    "collapsed": false,
    "pycharm": {
     "name": "#%%\n"
    }
   }
  },
  {
   "cell_type": "markdown",
   "source": [
    "# Pojedynczy neuron"
   ],
   "metadata": {
    "collapsed": false,
    "pycharm": {
     "name": "#%% md\n"
    }
   }
  },
  {
   "cell_type": "code",
   "execution_count": 619,
   "outputs": [],
   "source": [
    "x = np.array([[-1, 1, 2],\n",
    "              [-1, 2, 3],\n",
    "              [-1, 2, 1],\n",
    "              [-1, 3, 1]])\n",
    "\n",
    "y = np.array([[1, 1, 0, 0]]).T\n",
    "\n",
    "w = np.array([[1., 1., 1.]])\n",
    "\n",
    "n = 0.1"
   ],
   "metadata": {
    "collapsed": false,
    "pycharm": {
     "name": "#%%\n"
    }
   }
  },
  {
   "cell_type": "code",
   "execution_count": 620,
   "outputs": [
    {
     "name": "stdout",
     "output_type": "stream",
     "text": [
      "s\n"
     ]
    },
    {
     "data": {
      "text/plain": "array([[2.],\n       [4.],\n       [2.],\n       [3.]])"
     },
     "execution_count": 620,
     "metadata": {},
     "output_type": "execute_result"
    }
   ],
   "source": [
    "s = x @ w.T\n",
    "print('s')\n",
    "s"
   ],
   "metadata": {
    "collapsed": false,
    "pycharm": {
     "name": "#%%\n"
    }
   }
  },
  {
   "cell_type": "code",
   "execution_count": 621,
   "outputs": [
    {
     "name": "stdout",
     "output_type": "stream",
     "text": [
      "f(s)\n"
     ]
    },
    {
     "data": {
      "text/plain": "array([[0.88079708],\n       [0.98201379],\n       [0.88079708],\n       [0.95257413]])"
     },
     "execution_count": 621,
     "metadata": {},
     "output_type": "execute_result"
    }
   ],
   "source": [
    "print('f(s)')\n",
    "f_val = f_1(s)\n",
    "f_val"
   ],
   "metadata": {
    "collapsed": false,
    "pycharm": {
     "name": "#%%\n"
    }
   }
  },
  {
   "cell_type": "code",
   "execution_count": 622,
   "outputs": [
    {
     "name": "stdout",
     "output_type": "stream",
     "text": [
      "f'(s)\n"
     ]
    },
    {
     "data": {
      "text/plain": "array([[ -2.],\n       [-12.],\n       [ -2.],\n       [ -6.]])"
     },
     "execution_count": 622,
     "metadata": {},
     "output_type": "execute_result"
    }
   ],
   "source": [
    "fd_val = fd_1(s)\n",
    "print(\"f'(s)\")\n",
    "fd_val"
   ],
   "metadata": {
    "collapsed": false,
    "pycharm": {
     "name": "#%%\n"
    }
   }
  },
  {
   "cell_type": "code",
   "execution_count": 623,
   "outputs": [
    {
     "name": "stdout",
     "output_type": "stream",
     "text": [
      "t - y\n"
     ]
    },
    {
     "data": {
      "text/plain": "array([[ 0.11920292],\n       [ 0.01798621],\n       [-0.88079708],\n       [-0.95257413]])"
     },
     "execution_count": 623,
     "metadata": {},
     "output_type": "execute_result"
    }
   ],
   "source": [
    "y_minus_f = y - f_val\n",
    "print('t - y')\n",
    "y_minus_f"
   ],
   "metadata": {
    "collapsed": false,
    "pycharm": {
     "name": "#%%\n"
    }
   }
  },
  {
   "cell_type": "code",
   "execution_count": 624,
   "outputs": [
    {
     "name": "stdout",
     "output_type": "stream",
     "text": [
      "(t-y) * f'(s)\n"
     ]
    },
    {
     "data": {
      "text/plain": "array([[-0.23840584],\n       [-0.21583452],\n       [ 1.76159416],\n       [ 5.71544476]])"
     },
     "execution_count": 624,
     "metadata": {},
     "output_type": "execute_result"
    }
   ],
   "source": [
    "print(\"(t-y) * f'(s)\")\n",
    "y_minus_f_times_fd_val = y_minus_f * fd_val\n",
    "y_minus_f_times_fd_val"
   ],
   "metadata": {
    "collapsed": false,
    "pycharm": {
     "name": "#%%\n"
    }
   }
  },
  {
   "cell_type": "code",
   "execution_count": 625,
   "outputs": [
    {
     "name": "stdout",
     "output_type": "stream",
     "text": [
      "(t-y) * f'(s) * x\n"
     ]
    },
    {
     "data": {
      "text/plain": "array([[ 0.23840584, -0.23840584, -0.47681169],\n       [ 0.21583452, -0.43166904, -0.64750356],\n       [-1.76159416,  3.52318831,  1.76159416],\n       [-5.71544476, 17.14633428,  5.71544476]])"
     },
     "execution_count": 625,
     "metadata": {},
     "output_type": "execute_result"
    }
   ],
   "source": [
    "print(\"(t-y) * f'(s) * x\")\n",
    "delta_without_learning = y_minus_f_times_fd_val * x\n",
    "delta_without_learning"
   ],
   "metadata": {
    "collapsed": false,
    "pycharm": {
     "name": "#%%\n"
    }
   }
  },
  {
   "cell_type": "code",
   "execution_count": 626,
   "outputs": [
    {
     "name": "stdout",
     "output_type": "stream",
     "text": [
      "delta w without lr\n"
     ]
    },
    {
     "data": {
      "text/plain": "array([[-1.75569964,  4.99986193,  1.58818092]])"
     },
     "execution_count": 626,
     "metadata": {},
     "output_type": "execute_result"
    }
   ],
   "source": [
    "print(\"delta w without lr\")\n",
    "delta_without_learning_mean = delta_without_learning.mean(axis=0)\n",
    "delta_without_learning_mean.reshape((1,len(delta_without_learning_mean)))"
   ],
   "metadata": {
    "collapsed": false,
    "pycharm": {
     "name": "#%%\n"
    }
   }
  },
  {
   "cell_type": "code",
   "execution_count": 627,
   "outputs": [
    {
     "name": "stdout",
     "output_type": "stream",
     "text": [
      "delta w mean\n"
     ]
    },
    {
     "data": {
      "text/plain": "array([[-0.17556996,  0.49998619,  0.15881809]])"
     },
     "execution_count": 627,
     "metadata": {},
     "output_type": "execute_result"
    }
   ],
   "source": [
    "print(\"delta w mean\")\n",
    "delta_w = n * delta_without_learning_mean.reshape((1,len(delta_without_learning_mean)))\n",
    "delta_w"
   ],
   "metadata": {
    "collapsed": false,
    "pycharm": {
     "name": "#%%\n"
    }
   }
  },
  {
   "cell_type": "code",
   "execution_count": 628,
   "outputs": [
    {
     "name": "stdout",
     "output_type": "stream",
     "text": [
      "new w\n"
     ]
    },
    {
     "data": {
      "text/plain": "array([[0.82443004, 1.49998619, 1.15881809]])"
     },
     "execution_count": 628,
     "metadata": {},
     "output_type": "execute_result"
    }
   ],
   "source": [
    "print('new w')\n",
    "w += delta_w\n",
    "w"
   ],
   "metadata": {
    "collapsed": false,
    "pycharm": {
     "name": "#%%\n"
    }
   }
  },
  {
   "cell_type": "code",
   "execution_count": 629,
   "outputs": [
    {
     "name": "stdout",
     "output_type": "stream",
     "text": [
      "classification\n",
      "[[6.33433283]]\n"
     ]
    },
    {
     "data": {
      "text/plain": "array([[1]])"
     },
     "execution_count": 629,
     "metadata": {},
     "output_type": "execute_result"
    }
   ],
   "source": [
    "print('classification')\n",
    "test_sample = np.array([[-1, 4, 1]])\n",
    "\n",
    "print(w @ test_sample.T)\n",
    "ttt = f_activation(test_sample @ w.T)\n",
    "ttt"
   ],
   "metadata": {
    "collapsed": false,
    "pycharm": {
     "name": "#%%\n"
    }
   }
  },
  {
   "cell_type": "markdown",
   "source": [
    "# Siec neuronowa"
   ],
   "metadata": {
    "collapsed": false,
    "pycharm": {
     "name": "#%% md\n"
    }
   }
  },
  {
   "cell_type": "code",
   "execution_count": 630,
   "outputs": [],
   "source": [
    "lr = 0.5\n",
    "\n",
    "x1 = 0.05\n",
    "x2 = 0.1\n",
    "\n",
    "b1 = 0.35\n",
    "b2 = 0.6\n",
    "\n",
    "t1 = 0.01\n",
    "t2 = 0.99\n",
    "\n",
    "w1 = 0.15\n",
    "w2 = 0.2\n",
    "w3 = 0.25\n",
    "w4 = 0.3\n",
    "w5 = 0.4\n",
    "w6 = 0.45\n",
    "w7 = 0.5\n",
    "w8 = 0.55\n",
    "\n"
   ],
   "metadata": {
    "collapsed": false,
    "pycharm": {
     "name": "#%%\n"
    }
   }
  },
  {
   "cell_type": "code",
   "execution_count": 631,
   "outputs": [
    {
     "name": "stdout",
     "output_type": "stream",
     "text": [
      "H1\n"
     ]
    },
    {
     "data": {
      "text/plain": "0.3775"
     },
     "execution_count": 631,
     "metadata": {},
     "output_type": "execute_result"
    }
   ],
   "source": [
    "print('H1')\n",
    "H1 = x1 * w1 + x2 * w2 + b1\n",
    "H1"
   ],
   "metadata": {
    "collapsed": false,
    "pycharm": {
     "name": "#%%\n"
    }
   }
  },
  {
   "cell_type": "code",
   "execution_count": 632,
   "outputs": [
    {
     "name": "stdout",
     "output_type": "stream",
     "text": [
      "out H1\n"
     ]
    },
    {
     "data": {
      "text/plain": "0.5932699921071872"
     },
     "execution_count": 632,
     "metadata": {},
     "output_type": "execute_result"
    }
   ],
   "source": [
    "print('out H1')\n",
    "outH1 = f_1(H1)\n",
    "outH1"
   ],
   "metadata": {
    "collapsed": false,
    "pycharm": {
     "name": "#%%\n"
    }
   }
  },
  {
   "cell_type": "code",
   "execution_count": 633,
   "outputs": [
    {
     "name": "stdout",
     "output_type": "stream",
     "text": [
      "H2\n"
     ]
    },
    {
     "data": {
      "text/plain": "0.39249999999999996"
     },
     "execution_count": 633,
     "metadata": {},
     "output_type": "execute_result"
    }
   ],
   "source": [
    "print('H2')\n",
    "H2 = x1 * w3 + x2 * w4 + b1\n",
    "H2"
   ],
   "metadata": {
    "collapsed": false,
    "pycharm": {
     "name": "#%%\n"
    }
   }
  },
  {
   "cell_type": "code",
   "execution_count": 634,
   "outputs": [
    {
     "name": "stdout",
     "output_type": "stream",
     "text": [
      "out H2\n"
     ]
    },
    {
     "data": {
      "text/plain": "0.596884378259767"
     },
     "execution_count": 634,
     "metadata": {},
     "output_type": "execute_result"
    }
   ],
   "source": [
    "print('out H2')\n",
    "outH2 = f_1(H2)\n",
    "outH2"
   ],
   "metadata": {
    "collapsed": false,
    "pycharm": {
     "name": "#%%\n"
    }
   }
  },
  {
   "cell_type": "code",
   "execution_count": 635,
   "outputs": [
    {
     "name": "stdout",
     "output_type": "stream",
     "text": [
      "y1\n"
     ]
    },
    {
     "data": {
      "text/plain": "1.10590596705977"
     },
     "execution_count": 635,
     "metadata": {},
     "output_type": "execute_result"
    }
   ],
   "source": [
    "print('y1')\n",
    "y1 = outH1 * w5 + outH2 * w6 + b2\n",
    "y1"
   ],
   "metadata": {
    "collapsed": false,
    "pycharm": {
     "name": "#%%\n"
    }
   }
  },
  {
   "cell_type": "code",
   "execution_count": 636,
   "outputs": [
    {
     "name": "stdout",
     "output_type": "stream",
     "text": [
      "out y1\n"
     ]
    },
    {
     "data": {
      "text/plain": "0.7513650695523157"
     },
     "execution_count": 636,
     "metadata": {},
     "output_type": "execute_result"
    }
   ],
   "source": [
    "print('out y1')\n",
    "outy1 = f_1(y1)\n",
    "outy1"
   ],
   "metadata": {
    "collapsed": false,
    "pycharm": {
     "name": "#%%\n"
    }
   }
  },
  {
   "cell_type": "code",
   "execution_count": 637,
   "outputs": [
    {
     "name": "stdout",
     "output_type": "stream",
     "text": [
      "y2\n"
     ]
    },
    {
     "data": {
      "text/plain": "1.2249214040964653"
     },
     "execution_count": 637,
     "metadata": {},
     "output_type": "execute_result"
    }
   ],
   "source": [
    "print('y2')\n",
    "y2 = outH1 * w7 + outH2 * w8 + b2\n",
    "y2"
   ],
   "metadata": {
    "collapsed": false,
    "pycharm": {
     "name": "#%%\n"
    }
   }
  },
  {
   "cell_type": "code",
   "execution_count": 638,
   "outputs": [
    {
     "name": "stdout",
     "output_type": "stream",
     "text": [
      "out y2\n"
     ]
    },
    {
     "data": {
      "text/plain": "0.7729284653214625"
     },
     "execution_count": 638,
     "metadata": {},
     "output_type": "execute_result"
    }
   ],
   "source": [
    "print('out y2')\n",
    "outy2 = f_1(y2)\n",
    "outy2"
   ],
   "metadata": {
    "collapsed": false,
    "pycharm": {
     "name": "#%%\n"
    }
   }
  },
  {
   "cell_type": "markdown",
   "source": [
    "### Total error"
   ],
   "metadata": {
    "collapsed": false,
    "pycharm": {
     "name": "#%% md\n"
    }
   }
  },
  {
   "cell_type": "code",
   "execution_count": 639,
   "outputs": [
    {
     "data": {
      "text/plain": "0.5967422175200054"
     },
     "execution_count": 639,
     "metadata": {},
     "output_type": "execute_result"
    }
   ],
   "source": [
    "L = (((t1 - outy1) ** 2)) + (((t2 - outy2) ** 2))\n",
    "L"
   ],
   "metadata": {
    "collapsed": false,
    "pycharm": {
     "name": "#%%\n"
    }
   }
  },
  {
   "cell_type": "code",
   "execution_count": 640,
   "outputs": [
    {
     "data": {
      "text/plain": "0.54962216635231"
     },
     "execution_count": 640,
     "metadata": {},
     "output_type": "execute_result"
    }
   ],
   "source": [
    "Ly1 = (((t1 - outy1) ** 2))\n",
    "Ly1"
   ],
   "metadata": {
    "collapsed": false,
    "pycharm": {
     "name": "#%%\n"
    }
   }
  },
  {
   "cell_type": "code",
   "execution_count": 641,
   "outputs": [
    {
     "data": {
      "text/plain": "0.04712005116769549"
     },
     "execution_count": 641,
     "metadata": {},
     "output_type": "execute_result"
    }
   ],
   "source": [
    "Ly2 = (((t2 - outy2) ** 2))\n",
    "Ly2"
   ],
   "metadata": {
    "collapsed": false,
    "pycharm": {
     "name": "#%%\n"
    }
   }
  },
  {
   "cell_type": "markdown",
   "source": [
    "### Output layer back propagation"
   ],
   "metadata": {
    "collapsed": false,
    "pycharm": {
     "name": "#%% md\n"
    }
   }
  },
  {
   "cell_type": "code",
   "execution_count": 642,
   "outputs": [],
   "source": [
    "grad_y1_t1 = -(t1 - outy1) * outy1 * (1 - outy1)"
   ],
   "metadata": {
    "collapsed": false,
    "pycharm": {
     "name": "#%%\n"
    }
   }
  },
  {
   "cell_type": "code",
   "execution_count": 643,
   "outputs": [
    {
     "data": {
      "text/plain": "0.041083520282115385"
     },
     "execution_count": 643,
     "metadata": {},
     "output_type": "execute_result"
    }
   ],
   "source": [
    "deltaw5 = lr * grad_y1_t1 * outH1\n",
    "deltaw5"
   ],
   "metadata": {
    "collapsed": false,
    "pycharm": {
     "name": "#%%\n"
    }
   }
  },
  {
   "cell_type": "code",
   "execution_count": 644,
   "outputs": [
    {
     "data": {
      "text/plain": "0.35891647971788465"
     },
     "execution_count": 644,
     "metadata": {},
     "output_type": "execute_result"
    }
   ],
   "source": [
    "new_w5 = w5 - deltaw5\n",
    "new_w5"
   ],
   "metadata": {
    "collapsed": false,
    "pycharm": {
     "name": "#%%\n"
    }
   }
  },
  {
   "cell_type": "code",
   "execution_count": 645,
   "outputs": [
    {
     "data": {
      "text/plain": "0.04133381392376662"
     },
     "execution_count": 645,
     "metadata": {},
     "output_type": "execute_result"
    }
   ],
   "source": [
    "deltaw6 = lr * grad_y1_t1 * outH2\n",
    "deltaw6"
   ],
   "metadata": {
    "collapsed": false,
    "pycharm": {
     "name": "#%%\n"
    }
   }
  },
  {
   "cell_type": "code",
   "execution_count": 646,
   "outputs": [
    {
     "data": {
      "text/plain": "0.4086661860762334"
     },
     "execution_count": 646,
     "metadata": {},
     "output_type": "execute_result"
    }
   ],
   "source": [
    "new_w6 = w6 - deltaw6\n",
    "new_w6"
   ],
   "metadata": {
    "collapsed": false,
    "pycharm": {
     "name": "#%%\n"
    }
   }
  },
  {
   "cell_type": "code",
   "execution_count": 647,
   "outputs": [],
   "source": [
    "grad_y2_t2 = -(t2 - outy2) * outy2 * (1 - outy2)"
   ],
   "metadata": {
    "collapsed": false,
    "pycharm": {
     "name": "#%%\n"
    }
   }
  },
  {
   "cell_type": "code",
   "execution_count": 648,
   "outputs": [
    {
     "data": {
      "text/plain": "-0.011301270238737535"
     },
     "execution_count": 648,
     "metadata": {},
     "output_type": "execute_result"
    }
   ],
   "source": [
    "deltaw7 = lr * grad_y2_t2 * outH1\n",
    "deltaw7"
   ],
   "metadata": {
    "collapsed": false,
    "pycharm": {
     "name": "#%%\n"
    }
   }
  },
  {
   "cell_type": "code",
   "execution_count": 649,
   "outputs": [
    {
     "data": {
      "text/plain": "0.5113012702387375"
     },
     "execution_count": 649,
     "metadata": {},
     "output_type": "execute_result"
    }
   ],
   "source": [
    "new_w7 = w7 - deltaw7\n",
    "new_w7"
   ],
   "metadata": {
    "collapsed": false,
    "pycharm": {
     "name": "#%%\n"
    }
   }
  },
  {
   "cell_type": "code",
   "execution_count": 650,
   "outputs": [
    {
     "data": {
      "text/plain": "-0.011370121107989111"
     },
     "execution_count": 650,
     "metadata": {},
     "output_type": "execute_result"
    }
   ],
   "source": [
    "deltaw8 = lr * grad_y2_t2 * outH2\n",
    "deltaw8"
   ],
   "metadata": {
    "collapsed": false,
    "pycharm": {
     "name": "#%%\n"
    }
   }
  },
  {
   "cell_type": "code",
   "execution_count": 651,
   "outputs": [
    {
     "data": {
      "text/plain": "0.5613701211079891"
     },
     "execution_count": 651,
     "metadata": {},
     "output_type": "execute_result"
    }
   ],
   "source": [
    "new_w8 = w8 - deltaw8\n",
    "new_w8"
   ],
   "metadata": {
    "collapsed": false,
    "pycharm": {
     "name": "#%%\n"
    }
   }
  },
  {
   "cell_type": "markdown",
   "source": [
    "### Hidden layer back propagation"
   ],
   "metadata": {
    "collapsed": false,
    "pycharm": {
     "name": "#%% md\n"
    }
   }
  },
  {
   "cell_type": "code",
   "execution_count": 652,
   "outputs": [
    {
     "name": "stdout",
     "output_type": "stream",
     "text": [
      "new w1\n"
     ]
    },
    {
     "data": {
      "text/plain": "0.1497807161327628"
     },
     "execution_count": 652,
     "metadata": {},
     "output_type": "execute_result"
    }
   ],
   "source": [
    "print('new w1')\n",
    "deltaw1 = ((grad_y1_t1 * w5) + (grad_y2_t2 * w7)) * outH1 * (1 - outH1) * x1\n",
    "new_w1 = w1 - (lr * deltaw1)\n",
    "new_w1"
   ],
   "metadata": {
    "collapsed": false,
    "pycharm": {
     "name": "#%%\n"
    }
   }
  },
  {
   "cell_type": "code",
   "execution_count": 653,
   "outputs": [
    {
     "name": "stdout",
     "output_type": "stream",
     "text": [
      "new w2\n"
     ]
    },
    {
     "data": {
      "text/plain": "0.19956143226552567"
     },
     "execution_count": 653,
     "metadata": {},
     "output_type": "execute_result"
    }
   ],
   "source": [
    "print('new w2')\n",
    "deltaw2 = ((grad_y1_t1 * w5) + (grad_y2_t2 * w7)) * outH1 * (1 - outH1) * x2\n",
    "new_w2 = w2 - lr * deltaw2\n",
    "new_w2"
   ],
   "metadata": {
    "collapsed": false,
    "pycharm": {
     "name": "#%%\n"
    }
   }
  },
  {
   "cell_type": "code",
   "execution_count": 654,
   "outputs": [
    {
     "name": "stdout",
     "output_type": "stream",
     "text": [
      "new w3\n"
     ]
    },
    {
     "data": {
      "text/plain": "0.24975114363236958"
     },
     "execution_count": 654,
     "metadata": {},
     "output_type": "execute_result"
    }
   ],
   "source": [
    "print('new w3')\n",
    "deltaw3 = ((grad_y1_t1 * w6) + (grad_y2_t2 * w8)) * outH2 * (1 - outH2) * x1\n",
    "new_w3 = w3 - lr * deltaw3\n",
    "new_w3"
   ],
   "metadata": {
    "collapsed": false,
    "pycharm": {
     "name": "#%%\n"
    }
   }
  },
  {
   "cell_type": "code",
   "execution_count": 655,
   "outputs": [
    {
     "name": "stdout",
     "output_type": "stream",
     "text": [
      "new w4\n"
     ]
    },
    {
     "data": {
      "text/plain": "0.29950228726473915"
     },
     "execution_count": 655,
     "metadata": {},
     "output_type": "execute_result"
    }
   ],
   "source": [
    "print('new w4')\n",
    "deltaw4 = ((grad_y1_t1 * w6) + (grad_y2_t2 * w8)) * outH2 * (1 - outH2) * x2\n",
    "new_w4 = w4 - lr * deltaw4\n",
    "new_w4"
   ],
   "metadata": {
    "collapsed": false,
    "pycharm": {
     "name": "#%%\n"
    }
   }
  }
 ],
 "metadata": {
  "kernelspec": {
   "display_name": "Python 3",
   "language": "python",
   "name": "python3"
  },
  "language_info": {
   "codemirror_mode": {
    "name": "ipython",
    "version": 2
   },
   "file_extension": ".py",
   "mimetype": "text/x-python",
   "name": "python",
   "nbconvert_exporter": "python",
   "pygments_lexer": "ipython2",
   "version": "2.7.6"
  }
 },
 "nbformat": 4,
 "nbformat_minor": 0
}
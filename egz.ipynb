{
 "cells": [
  {
   "cell_type": "code",
   "execution_count": 13,
   "metadata": {
    "collapsed": true,
    "pycharm": {
     "name": "#%%\n"
    }
   },
   "outputs": [],
   "source": [
    "import math\n",
    "import numpy as np\n",
    "import scipy.linalg\n",
    "from scipy.linalg import pinv, inv\n",
    "\n",
    "\n",
    "def l1(x: np.array, y: np.array):\n",
    "    if x.shape != y.shape:\n",
    "        raise Exception('Shapes dont match')\n",
    "\n",
    "    s = 0\n",
    "\n",
    "    for i in range(len(x)):\n",
    "        s += abs(y[i] - x[i])\n",
    "    return s\n",
    "\n",
    "\n",
    "def l2(x: np.array, y: np.array):\n",
    "    if x.shape != y.shape:\n",
    "        raise Exception('Shapes dont match')\n",
    "\n",
    "    s = 0\n",
    "\n",
    "    for i in range(len(x)):\n",
    "        s += (y[i] - x[i]) ** 2\n",
    "    return s ** (1 / 2)\n",
    "\n",
    "\n",
    "def linf(x: np.array, y: np.array):\n",
    "    if x.shape != y.shape:\n",
    "        raise Exception('Shapes dont match')\n",
    "\n",
    "    k = x.shape[0]\n",
    "    s = 0\n",
    "\n",
    "    for i in range(k):\n",
    "        s += abs(y[i] - x[i]) ** k\n",
    "    return s ** (1 / k)\n",
    "\n",
    "\n",
    "def mean_vector(x):\n",
    "    \"\"\"\n",
    "    na wejsciu podwany jest stojacy wektor np [[1], [1]] a nie [1, 1]\n",
    "    :param x:\n",
    "    :return:\n",
    "    \"\"\"\n",
    "    n = x.shape[0]\n",
    "    mean = np.zeros((1, x.shape[1]))\n",
    "\n",
    "    for i in range(n):\n",
    "        mean += x[i]\n",
    "\n",
    "    mean /= n\n",
    "    return mean\n",
    "\n",
    "\n",
    "def covariation_matrix(x: np.array):\n",
    "    \"\"\"\n",
    "    przyjmuje punkt x jako stojacy np. [[1], [2]] a nie [[1, 2]]\n",
    "    :param x:\n",
    "    :return:\n",
    "    \"\"\"\n",
    "    n = x.shape[0]\n",
    "    print(n)\n",
    "\n",
    "    mean = mean_vector(x)\n",
    "\n",
    "    print(\"srednia mi\")\n",
    "    print(mean)\n",
    "\n",
    "    summer = np.zeros((x.shape[1], x.shape[1]))\n",
    "\n",
    "    for i in range(n):\n",
    "        xx = x[i] - mean\n",
    "        summer += xx.T @ xx\n",
    "\n",
    "    summer /= n\n",
    "\n",
    "    print('macierz kowariancji:')\n",
    "    print(summer)\n",
    "\n",
    "    for i in range(summer.shape[0]):\n",
    "        for j in range(summer.shape[1]):\n",
    "            if i != j:\n",
    "                print(\"pearson dla \", i + 1, j + 1)\n",
    "                print(round(summer[i][j] / ((summer[i][i] ** (1 / 2)) * (summer[j][j] ** (1 / 2))), 3))\n",
    "\n",
    "    return summer\n",
    "\n",
    "\n",
    "\n",
    "def mahalanabis_distance(x: np.array, c: np.array, mi: np.array):\n",
    "    \"\"\"\n",
    "    przyjmuje punkt x jako lezacy np. [1, 2] a nie [[1], [2]]\n",
    "    \"\"\"\n",
    "    cinv = inv(c)\n",
    "    xx = x - mi\n",
    "\n",
    "    return xx @ cinv @ xx.T\n"
   ]
  },
  {
   "cell_type": "code",
   "execution_count": 3,
   "outputs": [
    {
     "name": "stdout",
     "output_type": "stream",
     "text": [
      "[0.7]\n",
      "[1.3]\n",
      "[0.7]\n",
      "[1.04403065]\n",
      "[0.7]\n",
      "[1.04403065]\n"
     ]
    }
   ],
   "source": [
    "a = np.array([[0, 0]]).T\n",
    "b = np.array([[1, 1]]).T\n",
    "c = np.array([[0, 0.7]]).T\n",
    "\n",
    "print(l1(a, c))\n",
    "print(l1(b, c))\n",
    "\n",
    "print(l2(a, c))\n",
    "print(l2(b, c))\n",
    "\n",
    "print(linf(a, c))\n",
    "print(linf(b, c))"
   ],
   "metadata": {
    "collapsed": false,
    "pycharm": {
     "name": "#%%\n"
    }
   }
  },
  {
   "cell_type": "code",
   "execution_count": 4,
   "outputs": [
    {
     "name": "stdout",
     "output_type": "stream",
     "text": [
      "4\n",
      "srednia mi\n",
      "[[0. 0.]]\n",
      "macierz kowariancji:\n",
      "[[2.5 1.5]\n",
      " [1.5 2.5]]\n",
      "pearson dla  1 2\n",
      "0.6\n",
      "pearson dla  2 1\n",
      "0.6\n"
     ]
    },
    {
     "data": {
      "text/plain": "array([[2.5, 1.5],\n       [1.5, 2.5]])"
     },
     "execution_count": 4,
     "metadata": {},
     "output_type": "execute_result"
    }
   ],
   "source": [
    "a = np.array([[-2, -2], [-1, 1], [1, -1], [2, 2]])\n",
    "c = covariation_matrix(a)\n",
    "c"
   ],
   "metadata": {
    "collapsed": false,
    "pycharm": {
     "name": "#%%\n"
    }
   }
  },
  {
   "cell_type": "code",
   "execution_count": 6,
   "outputs": [
    {
     "data": {
      "text/plain": "array([[32.]])"
     },
     "execution_count": 6,
     "metadata": {},
     "output_type": "execute_result"
    }
   ],
   "source": [
    "miX = mean_vector(a)\n",
    "\n",
    "dd = np.array([4, -4])\n",
    "\n",
    "ddd = np.array([4, 4])\n",
    "\n",
    "mahalanabis_distance(dd, c, miX)"
   ],
   "metadata": {
    "collapsed": false,
    "pycharm": {
     "name": "#%%\n"
    }
   }
  },
  {
   "cell_type": "code",
   "execution_count": 7,
   "outputs": [
    {
     "data": {
      "text/plain": "array([[8.]])"
     },
     "execution_count": 7,
     "metadata": {},
     "output_type": "execute_result"
    }
   ],
   "source": [
    "mahalanabis_distance(ddd, c, miX)"
   ],
   "metadata": {
    "collapsed": false,
    "pycharm": {
     "name": "#%%\n"
    }
   }
  },
  {
   "cell_type": "code",
   "execution_count": 16,
   "outputs": [
    {
     "name": "stdout",
     "output_type": "stream",
     "text": [
      "[[2 4 6 4]\n",
      " [1 0 1 2]]\n",
      "4\n",
      "srednia mi\n",
      "[[4. 1.]]\n",
      "macierz kowariancji:\n",
      "[[2.  0. ]\n",
      " [0.  0.5]]\n",
      "pearson dla  1 2\n",
      "0.0\n",
      "pearson dla  2 1\n",
      "0.0\n"
     ]
    }
   ],
   "source": [
    "prupki = np.array([[2, 4, 6, 4], [1, 0, 1, 2]])\n",
    "print(prupki)\n",
    "\n",
    "miP = mean_vector(prupki.T)\n",
    "\n",
    "maciesz = covariation_matrix(prupki.T)"
   ],
   "metadata": {
    "collapsed": false,
    "pycharm": {
     "name": "#%%\n"
    }
   }
  },
  {
   "cell_type": "code",
   "execution_count": 18,
   "outputs": [
    {
     "data": {
      "text/plain": "array([[0.5, 0. ],\n       [0. , 2. ]])"
     },
     "execution_count": 18,
     "metadata": {},
     "output_type": "execute_result"
    }
   ],
   "source": [
    "inv_maciesz = pinv(maciesz)"
   ],
   "metadata": {
    "collapsed": false,
    "pycharm": {
     "name": "#%%\n"
    }
   }
  },
  {
   "cell_type": "code",
   "execution_count": 27,
   "outputs": [
    {
     "data": {
      "text/plain": "array([[18.]])"
     },
     "execution_count": 27,
     "metadata": {},
     "output_type": "execute_result"
    }
   ],
   "source": [
    "punkt = np.array([[4, 4]])\n",
    "mahalanabis_distance(punkt, maciesz, miP)\n",
    "\n",
    "# l2(punkt.T, miP.T)"
   ],
   "metadata": {
    "collapsed": false,
    "pycharm": {
     "name": "#%%\n"
    }
   }
  }
 ],
 "metadata": {
  "kernelspec": {
   "display_name": "Python 3",
   "language": "python",
   "name": "python3"
  },
  "language_info": {
   "codemirror_mode": {
    "name": "ipython",
    "version": 2
   },
   "file_extension": ".py",
   "mimetype": "text/x-python",
   "name": "python",
   "nbconvert_exporter": "python",
   "pygments_lexer": "ipython2",
   "version": "2.7.6"
  }
 },
 "nbformat": 4,
 "nbformat_minor": 0
}
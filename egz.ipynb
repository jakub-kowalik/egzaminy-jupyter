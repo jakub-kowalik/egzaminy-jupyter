{
 "cells": [
  {
   "cell_type": "code",
   "execution_count": 709,
   "metadata": {
    "collapsed": true,
    "pycharm": {
     "name": "#%%\n"
    }
   },
   "outputs": [],
   "source": [
    "import itertools\n",
    "import math\n",
    "import numpy as np\n",
    "import scipy.linalg\n",
    "from scipy.linalg import pinv, inv\n",
    "import itertools\n",
    "import matplotlib.pyplot as plt\n",
    "\n",
    "\n",
    "def l1(x: np.array, y: np.array):\n",
    "    if x.shape != y.shape:\n",
    "        raise Exception('Shapes dont match')\n",
    "\n",
    "    s = 0\n",
    "\n",
    "    for i in range(len(x)):\n",
    "        s += abs(y[i] - x[i])\n",
    "    return s\n",
    "\n",
    "\n",
    "def l2(x: np.array, y: np.array):\n",
    "    if x.shape != y.shape:\n",
    "        raise Exception('Shapes dont match')\n",
    "\n",
    "    s = 0\n",
    "\n",
    "    for i in range(len(x)):\n",
    "        s += (y[i] - x[i]) ** 2\n",
    "    return s ** (1 / 2)\n",
    "\n",
    "\n",
    "def linf(x: np.array, y: np.array):\n",
    "    if x.shape != y.shape:\n",
    "        raise Exception('Shapes dont match')\n",
    "\n",
    "    k = x.shape[0]\n",
    "    s = 0\n",
    "\n",
    "    for i in range(k):\n",
    "        s += abs(y[i] - x[i]) ** k\n",
    "    return s ** (1 / k)\n",
    "\n",
    "\n",
    "def mean_vector(x):\n",
    "    \"\"\"\n",
    "    na wejsciu podwany jest stojacy wektor np [[1], [1]] a nie [1, 1]\n",
    "    :param x:\n",
    "    :return:\n",
    "    \"\"\"\n",
    "    n = x.shape[0]\n",
    "    mean = np.zeros((1, x.shape[1]))\n",
    "\n",
    "    for i in range(n):\n",
    "        mean += x[i]\n",
    "\n",
    "    mean /= n\n",
    "    return mean\n",
    "\n",
    "\n",
    "def covariation_matrix(x: np.array):\n",
    "    \"\"\"\n",
    "    przyjmuje punkt x jako stojacy np. [[1], [2]] a nie [[1, 2]]\n",
    "    :param x:\n",
    "    :return:\n",
    "    \"\"\"\n",
    "    n = x.shape[0]\n",
    "\n",
    "    mean = mean_vector(x)\n",
    "\n",
    "    print(\"srednia mi: \", mean)\n",
    "\n",
    "    summer = np.zeros((x.shape[1], x.shape[1]))\n",
    "\n",
    "    print(\"\\nmacierz odchylen: \\n\", x - mean)\n",
    "\n",
    "    for i in range(n):\n",
    "        xx = x[i] - mean\n",
    "        summer += xx.T @ xx\n",
    "\n",
    "    summer /= n\n",
    "\n",
    "    print('\\nzaokraglona macierz kowariancji: \\n', summer.round(3))\n",
    "\n",
    "    for i in range(summer.shape[0]):\n",
    "        for j in range(summer.shape[1]):\n",
    "            if i != j:\n",
    "                print(\"\\npearson dla cech\", i + 1, j + 1, \": \", (summer[i][j] / ((summer[i][i] ** (1 / 2)) * (summer[j][j] ** (1 / 2)))))\n",
    "                print(\"zaokraglenie: \", round(summer[i][j] / ((summer[i][i] ** (1 / 2)) * (summer[j][j] ** (1 / 2))), 3))\n",
    "\n",
    "    return summer\n",
    "\n",
    "\n",
    "\n",
    "def mahalanobis_distance(x: np.array, c: np.array, mi: np.array):\n",
    "    \"\"\"\n",
    "    przyjmuje punkt x jako stojacy np. [[1], [2]] a nie [[1, 2]]\n",
    "    \"\"\"\n",
    "\n",
    "    x = x.T\n",
    "\n",
    "    cinv = inv(c)\n",
    "    xx = x - mi\n",
    "\n",
    "    return xx @ cinv @ xx.T\n",
    "\n",
    "\n",
    "def mahalanobis_1d(x_1d, mi_1d, var):\n",
    "    std = var ** (1/2)\n",
    "\n",
    "    return abs(x_1d - mi_1d) / std\n",
    "\n",
    "\n",
    "def fisher_wspolczynnik(mi1, mi2, c1, c2):\n",
    "    \"\"\"\n",
    "        przyjmuje mi1 i mi2 jako stojacy np. [[1, 2]] a nie [[1], [2]]\n",
    "    :param mi1:\n",
    "    :param mi2:\n",
    "    :param c1:\n",
    "    :param c2:\n",
    "    :return:\n",
    "    \"\"\"\n",
    "    mi1 = mi1.T\n",
    "    mi2 = mi2.T\n",
    "\n",
    "    wspolczynniczki = []\n",
    "\n",
    "    for i in range(len(mi1)):\n",
    "        std1 = c1[i][i] ** (1/2)\n",
    "        std2 = c2[i][i] ** (1/2)\n",
    "        print(\"fisher dla cechy \", i, \": \", (abs(mi1[i] - mi2[i]) / (std1 + std2)))\n",
    "        print(\"zaokraglenie \", np.round((abs(mi1[i] - mi2[i]) / (std1 + std2)), 3))\n",
    "\n",
    "        wspolczynniczki.append((abs(mi1[i] - mi2[i]) / (std1 + std2)))\n",
    "\n",
    "    return wspolczynniczki\n",
    "\n",
    "\n",
    "\n",
    "def fisher_multidimensions(mi1, mi2, c1, c2):\n",
    "    mi1 = mi1.T\n",
    "    mi2 = mi2.T\n",
    "\n",
    "    zzz = [x for x in range(mi1.shape[1])]\n",
    "    # print(zzz)\n",
    "    dimensions = list(itertools.combinations(zzz, 2))\n",
    "    print('Kombinacje cech', dimensions)\n",
    "\n",
    "    for pair in dimensions:\n",
    "        first = (mi1[0][pair[0]] - mi2[0][pair[0]]) ** 2\n",
    "        second = (mi1[0][pair[1]] - mi2[0][pair[1]]) ** 2\n",
    "\n",
    "        upper = (first + second) ** (1/2)\n",
    "        # print('dec', c1[pair[0]][pair[0]], c1[pair[1]][pair[1]], c2[pair[0]][pair[0]], c2[pair[1]][pair[1]])\n",
    "        lower = (c1[pair[0]][pair[0]] ** (1/2)) + (c1[pair[1]][pair[1]] ** (1/2)) + (c2[pair[0]][pair[0]] ** (1/2)) + (c2[pair[1]][pair[1]] ** (1/2))\n",
    "        # lower = (c1[pair[0]][pair[0]]) + (c1[pair[1]][pair[1]]) + (c2[pair[0]][pair[0]]) + (c2[pair[1]][pair[1]])\n",
    "        # print(\"lower\", lower)\n",
    "\n",
    "        print(\"Fisher dla cech \", pair, \": \", (upper/lower))\n",
    "        print(\"zaokraglenie: \", np.round((upper/lower), 3))\n",
    "\n",
    "    pass"
   ]
  },
  {
   "cell_type": "markdown",
   "source": [
    "# Przykladowe dane i obliczenia"
   ],
   "metadata": {
    "collapsed": false,
    "pycharm": {
     "name": "#%% md\n"
    }
   }
  },
  {
   "cell_type": "code",
   "execution_count": 710,
   "outputs": [
    {
     "data": {
      "text/plain": "<Figure size 432x288 with 1 Axes>",
      "image/png": "[encoded data removed]"
     },
     "metadata": {
      "needs_background": "light"
     },
     "output_type": "display_data"
    }
   ],
   "source": [
    "example_x1 = np.array([[1, 1]])\n",
    "example_x2 = np.array([[2, 2]])\n",
    "example_x3 = np.array([[0, 3]])\n",
    "example_x4 = np.array([[3, 0]])\n",
    "\n",
    "example_x_all = np.vstack((\n",
    "    example_x1,\n",
    "    example_x2,\n",
    "    example_x3,\n",
    "    example_x4\n",
    "))\n",
    "\n",
    "plt.title('Wykres wybranych punktów')\n",
    "plt.axvline(x=0, c=\"red\", label=\"x2\")\n",
    "plt.axhline(y=0, c=\"yellow\", label=\"x1\")\n",
    "plt.xlim((-4, 4))\n",
    "plt.ylim((-4, 4))\n",
    "plt.scatter(example_x_all.T[0], example_x_all.T[1])\n",
    "plt.legend()\n",
    "plt.show()"
   ],
   "metadata": {
    "collapsed": false,
    "pycharm": {
     "name": "#%%\n"
    }
   }
  },
  {
   "cell_type": "markdown",
   "source": [
    "# Wyliczanie średniej z próbek"
   ],
   "metadata": {
    "collapsed": false,
    "pycharm": {
     "name": "#%% md\n"
    }
   }
  },
  {
   "cell_type": "code",
   "execution_count": 711,
   "outputs": [
    {
     "name": "stdout",
     "output_type": "stream",
     "text": [
      "Uzyskany wektor probek klasy:\n",
      "[[1 1]\n",
      " [2 2]\n",
      " [0 3]\n",
      " [3 0]]\n",
      "\n",
      "Obliczony wektor sredni mi:  [[1.5 1.5]]\n"
     ]
    }
   ],
   "source": [
    "print(\"Uzyskany wektor probek klasy:\")\n",
    "print(example_x_all)\n",
    "example_mi = mean_vector(x_all)\n",
    "print(\"\\nObliczony wektor sredni mi: \", example_mi)"
   ],
   "metadata": {
    "collapsed": false,
    "pycharm": {
     "name": "#%%\n"
    }
   }
  },
  {
   "cell_type": "markdown",
   "source": [
    "# Obliczanie macierzy kowariancji"
   ],
   "metadata": {
    "collapsed": false,
    "pycharm": {
     "name": "#%% md\n"
    }
   }
  },
  {
   "cell_type": "code",
   "execution_count": 712,
   "outputs": [
    {
     "name": "stdout",
     "output_type": "stream",
     "text": [
      "srednia mi:  [[1.5 1.5]]\n",
      "\n",
      "macierz odchylen: \n",
      " [[-0.5 -0.5]\n",
      " [ 0.5  0.5]\n",
      " [-1.5  1.5]\n",
      " [ 1.5 -1.5]]\n",
      "\n",
      "zaokraglona macierz kowariancji: \n",
      " [[ 1.25 -1.  ]\n",
      " [-1.    1.25]]\n",
      "\n",
      "pearson dla cech 1 2 :  -0.7999999999999998\n",
      "zaokraglenie:  -0.8\n",
      "\n",
      "pearson dla cech 2 1 :  -0.7999999999999998\n",
      "zaokraglenie:  -0.8\n"
     ]
    }
   ],
   "source": [
    "example_c = covariation_matrix(example_x_all)"
   ],
   "metadata": {
    "collapsed": false,
    "pycharm": {
     "name": "#%%\n"
    }
   }
  },
  {
   "cell_type": "markdown",
   "source": [
    "# Selekcja cech"
   ],
   "metadata": {
    "collapsed": false,
    "pycharm": {
     "name": "#%% md\n"
    }
   }
  },
  {
   "cell_type": "code",
   "execution_count": 713,
   "outputs": [
    {
     "name": "stdout",
     "output_type": "stream",
     "text": [
      "fisher dla cechy  0 :  [1.22803364]\n",
      "zaokraglenie  [1.228]\n",
      "fisher dla cechy  1 :  [1.65247584]\n",
      "zaokraglenie  [1.652]\n",
      "\n",
      "Wybrany zostala cecha:  1\n"
     ]
    }
   ],
   "source": [
    "### Dodaje inna przykladowa klase\n",
    "\n",
    "example_mi_B = np.array([[-2, -2]])\n",
    "example_c_B = np.array([[3, 1], [1, 1]])\n",
    "\n",
    "example_wspolczynniki = fisher_wspolczynnik(example_mi, example_mi_B, example_c, example_c_B)\n",
    "example_wybrany_wspolczynnik = np.argmax(example_wspolczynniki)\n",
    "\n",
    "print('\\nWybrany zostala cecha: ', example_wybrany_wspolczynnik)"
   ],
   "metadata": {
    "collapsed": false,
    "pycharm": {
     "name": "#%%\n"
    }
   }
  },
  {
   "cell_type": "markdown",
   "source": [
    "# Odleglosc Mahalanobisa"
   ],
   "metadata": {
    "collapsed": false,
    "pycharm": {
     "name": "#%% md\n"
    }
   }
  },
  {
   "cell_type": "code",
   "execution_count": 714,
   "outputs": [
    {
     "name": "stdout",
     "output_type": "stream",
     "text": [
      "Odleglosci mahalanobisa od punktu  [[0 0]] do klasy pierwszej [[1.5 1.5]] oraz drugiej  [[-2 -2]] \n",
      "\n",
      "Odleglosc mahalanobisa od pierwszej klasy [[18.]]\n",
      "Odleglosc mahalanobisa od drugiej klasy [[4.]]\n",
      "\n",
      "Mniejsza odleglosc okresla przynaleznosc do klasy, wiec probka zostaja zaklasyfikowana jako klasa druga\n"
     ]
    }
   ],
   "source": [
    "example_point = np.array([[0], [0]])\n",
    "\n",
    "print('Odleglosci mahalanobisa od punktu ', example_point.T, 'do klasy pierwszej', example_mi, 'oraz drugiej ', example_mi_B, '\\n')\n",
    "\n",
    "### Uwaga punkt do obliczenia dystansu od klasy podajemy jako wektor stojacy, natomiast mi, bez zmian, jako lezacy\n",
    "d1 = mahalanobis_distance(example_point, example_c, example_mi)\n",
    "print('Odleglosc mahalanobisa od pierwszej klasy', d1)\n",
    "\n",
    "d2 = mahalanobis_distance(example_point, example_c_B, example_mi_B)\n",
    "print('Odleglosc mahalanobisa od drugiej klasy', d2)\n",
    "\n",
    "print('\\nMniejsza odleglosc okresla przynaleznosc do klasy, wiec probka zostaja zaklasyfikowana jako', 'klasa pierwsza' if d1 < d2 else 'klasa druga')"
   ],
   "metadata": {
    "collapsed": false,
    "pycharm": {
     "name": "#%%\n"
    }
   }
  },
  {
   "cell_type": "markdown",
   "source": [
    "# Odleglosc Mahalanobisa dla jednej cechy"
   ],
   "metadata": {
    "collapsed": false,
    "pycharm": {
     "name": "#%% md\n"
    }
   }
  },
  {
   "cell_type": "code",
   "execution_count": 715,
   "outputs": [
    {
     "name": "stdout",
     "output_type": "stream",
     "text": [
      "Odleglosci mahalanobisa dla drugiej cechy od punktu  [[0 0]] do klasy pierwszej [[1.5 1.5]] oraz klasy drugiej  [[-2 -2]] \n",
      "\n",
      "Odleglosc mahalanobisa od pierwszej klasy dla cechy 2:  [1.34164079]\n",
      "Odleglosc mahalanobisa od drugiej klasy dla cechy 2:  [2.]\n",
      "\n",
      "Mniejsza odleglosc w przestrzeni jednej cechy okresla przynaleznosc do klasy, wiec probka zostaja zaklasyfikowana jako klasa pierwsza\n"
     ]
    }
   ],
   "source": [
    "### Dalej wybieramy druga ceche, jako ta o wiekszym wspolczynniku\n",
    "\n",
    "print('Odleglosci mahalanobisa dla drugiej cechy od punktu ', example_point.T, 'do klasy pierwszej', example_mi, 'oraz klasy drugiej ', example_mi_B, '\\n')\n",
    "\n",
    "d1_1 = mahalanobis_1d(example_point[example_wybrany_wspolczynnik], example_mi[0][example_wybrany_wspolczynnik], example_c[1][example_wybrany_wspolczynnik])\n",
    "print('Odleglosc mahalanobisa od pierwszej klasy dla cechy 2: ', d1_1)\n",
    "\n",
    "d2_1 = mahalanobis_1d(example_point[example_wybrany_wspolczynnik], example_mi_B[0][example_wybrany_wspolczynnik], example_c_B[1][example_wybrany_wspolczynnik])\n",
    "print('Odleglosc mahalanobisa od drugiej klasy dla cechy 2: ', d2_1)\n",
    "\n",
    "print('\\nMniejsza odleglosc w przestrzeni jednej cechy okresla przynaleznosc do klasy, wiec probka zostaja zaklasyfikowana jako', 'klasa pierwsza' if d1_1 < d2_1 else 'klasa druga')"
   ],
   "metadata": {
    "collapsed": false,
    "pycharm": {
     "name": "#%%\n"
    }
   }
  },
  {
   "cell_type": "markdown",
   "source": [],
   "metadata": {
    "collapsed": false,
    "pycharm": {
     "name": "#%% md\n"
    }
   }
  },
  {
   "cell_type": "code",
   "execution_count": 716,
   "outputs": [
    {
     "name": "stdout",
     "output_type": "stream",
     "text": [
      "[0.7]\n",
      "[1.3]\n",
      "[0.7]\n",
      "[1.04403065]\n",
      "[0.7]\n",
      "[1.04403065]\n"
     ]
    }
   ],
   "source": [
    "a = np.array([[0, 0]]).T\n",
    "b = np.array([[1, 1]]).T\n",
    "c = np.array([[0, 0.7]]).T\n",
    "\n",
    "print(l1(a, c))\n",
    "print(l1(b, c))\n",
    "\n",
    "print(l2(a, c))\n",
    "print(l2(b, c))\n",
    "\n",
    "print(linf(a, c))\n",
    "print(linf(b, c))"
   ],
   "metadata": {
    "collapsed": false,
    "pycharm": {
     "name": "#%%\n"
    }
   }
  },
  {
   "cell_type": "code",
   "execution_count": 717,
   "outputs": [
    {
     "name": "stdout",
     "output_type": "stream",
     "text": [
      "srednia mi:  [[0. 0.]]\n",
      "\n",
      "macierz odchylen: \n",
      " [[-2. -2.]\n",
      " [-1.  1.]\n",
      " [ 1. -1.]\n",
      " [ 2.  2.]]\n",
      "\n",
      "zaokraglona macierz kowariancji: \n",
      " [[2.5 1.5]\n",
      " [1.5 2.5]]\n",
      "\n",
      "pearson dla cech 1 2 :  0.5999999999999999\n",
      "zaokraglenie:  0.6\n",
      "\n",
      "pearson dla cech 2 1 :  0.5999999999999999\n",
      "zaokraglenie:  0.6\n"
     ]
    },
    {
     "data": {
      "text/plain": "array([[2.5, 1.5],\n       [1.5, 2.5]])"
     },
     "execution_count": 717,
     "metadata": {},
     "output_type": "execute_result"
    }
   ],
   "source": [
    "a = np.array([[-2, -2], [-1, 1], [1, -1], [2, 2]])\n",
    "c = covariation_matrix(a)\n",
    "c"
   ],
   "metadata": {
    "collapsed": false,
    "pycharm": {
     "name": "#%%\n"
    }
   }
  },
  {
   "cell_type": "code",
   "execution_count": 718,
   "outputs": [
    {
     "data": {
      "text/plain": "array([[32.]])"
     },
     "execution_count": 718,
     "metadata": {},
     "output_type": "execute_result"
    }
   ],
   "source": [
    "miX = mean_vector(a)\n",
    "\n",
    "dd = np.array([4, -4])\n",
    "\n",
    "ddd = np.array([4, 4])\n",
    "\n",
    "mahalanobis_distance(dd, c, miX)"
   ],
   "metadata": {
    "collapsed": false,
    "pycharm": {
     "name": "#%%\n"
    }
   }
  },
  {
   "cell_type": "code",
   "execution_count": 719,
   "outputs": [
    {
     "data": {
      "text/plain": "array([[8.]])"
     },
     "execution_count": 719,
     "metadata": {},
     "output_type": "execute_result"
    }
   ],
   "source": [
    "mahalanobis_distance(ddd, c, miX)"
   ],
   "metadata": {
    "collapsed": false,
    "pycharm": {
     "name": "#%%\n"
    }
   }
  },
  {
   "cell_type": "code",
   "execution_count": 720,
   "outputs": [
    {
     "name": "stdout",
     "output_type": "stream",
     "text": [
      "[[2 1]\n",
      " [4 0]\n",
      " [6 1]\n",
      " [4 2]]\n",
      "srednia mi:  [[4. 1.]]\n",
      "\n",
      "macierz odchylen: \n",
      " [[-2.  0.]\n",
      " [ 0. -1.]\n",
      " [ 2.  0.]\n",
      " [ 0.  1.]]\n",
      "\n",
      "zaokraglona macierz kowariancji: \n",
      " [[2.  0. ]\n",
      " [0.  0.5]]\n",
      "\n",
      "pearson dla cech 1 2 :  0.0\n",
      "zaokraglenie:  0.0\n",
      "\n",
      "pearson dla cech 2 1 :  0.0\n",
      "zaokraglenie:  0.0\n"
     ]
    }
   ],
   "source": [
    "prupki = np.array([[2, 4, 6, 4], [1, 0, 1, 2]]).T\n",
    "print(prupki)\n",
    "\n",
    "miP = mean_vector(prupki)\n",
    "\n",
    "maciesz = covariation_matrix(prupki)"
   ],
   "metadata": {
    "collapsed": false,
    "pycharm": {
     "name": "#%%\n"
    }
   }
  },
  {
   "cell_type": "code",
   "execution_count": 721,
   "outputs": [],
   "source": [
    "inv_maciesz = pinv(maciesz)"
   ],
   "metadata": {
    "collapsed": false,
    "pycharm": {
     "name": "#%%\n"
    }
   }
  },
  {
   "cell_type": "code",
   "execution_count": 722,
   "outputs": [
    {
     "data": {
      "text/plain": "array([[18.]])"
     },
     "execution_count": 722,
     "metadata": {},
     "output_type": "execute_result"
    }
   ],
   "source": [
    "punkt = np.array([[4], [4]])\n",
    "mahalanobis_distance(punkt, maciesz, miP)\n",
    "\n",
    "# l2(punkt.T, miP.T)"
   ],
   "metadata": {
    "collapsed": false,
    "pycharm": {
     "name": "#%%\n"
    }
   }
  },
  {
   "cell_type": "code",
   "execution_count": 723,
   "outputs": [
    {
     "data": {
      "text/plain": "1.3416407864998738"
     },
     "execution_count": 723,
     "metadata": {},
     "output_type": "execute_result"
    }
   ],
   "source": [
    "mahalanobis_1d(0, 1.5, 1.25)"
   ],
   "metadata": {
    "collapsed": false,
    "pycharm": {
     "name": "#%%\n"
    }
   }
  },
  {
   "cell_type": "code",
   "execution_count": 724,
   "outputs": [
    {
     "name": "stdout",
     "output_type": "stream",
     "text": [
      "fisher dla cechy  0 :  [1.22803364 1.22803364]\n",
      "zaokraglenie  [1.228 1.228]\n"
     ]
    },
    {
     "data": {
      "text/plain": "[array([1.22803364, 1.22803364])]"
     },
     "execution_count": 724,
     "metadata": {},
     "output_type": "execute_result"
    }
   ],
   "source": [
    "w1 = np.array([[1.5], [1.5]])\n",
    "w2 = np.array([[-2], [-2]])\n",
    "\n",
    "cw1 = np.array([[1.25, -1], [-1, 1.25]])\n",
    "cw2 = np.array([[3, 1], [1, 1]])\n",
    "\n",
    "fisher_wspolczynnik(w1, w2, cw1, cw2)"
   ],
   "metadata": {
    "collapsed": false,
    "pycharm": {
     "name": "#%%\n"
    }
   }
  },
  {
   "cell_type": "code",
   "execution_count": 725,
   "outputs": [
    {
     "name": "stdout",
     "output_type": "stream",
     "text": [
      "Kombinacje cech [(0, 1), (0, 2), (1, 2)]\n",
      "Fisher dla cech  (0, 1) :  1.1153041493647022\n",
      "zaokraglenie:  1.115\n",
      "Fisher dla cech  (0, 2) :  1.4759256799350016\n",
      "zaokraglenie:  1.476\n",
      "Fisher dla cech  (1, 2) :  1.2490693858675541\n",
      "zaokraglenie:  1.249\n"
     ]
    }
   ],
   "source": [
    "ww1 = np.array([[0], [-1], [-8]])\n",
    "ww2 = np.array([[5] ,[1], [-1]])\n",
    "\n",
    "cc1 = np.array([[1, 1, 0], [1, 2, -1], [0, -1, 4]])\n",
    "cc2 = np.array([[2, 0, 0], [0, 1, 1], [0, 1, 2]])\n",
    "\n",
    "fisher_multidimensions(ww1, ww2, cc1, cc2)"
   ],
   "metadata": {
    "collapsed": false,
    "pycharm": {
     "name": "#%%\n"
    }
   }
  }
 ],
 "metadata": {
  "kernelspec": {
   "display_name": "Python 3",
   "language": "python",
   "name": "python3"
  },
  "language_info": {
   "codemirror_mode": {
    "name": "ipython",
    "version": 2
   },
   "file_extension": ".py",
   "mimetype": "text/x-python",
   "name": "python",
   "nbconvert_exporter": "python",
   "pygments_lexer": "ipython2",
   "version": "2.7.6"
  }
 },
 "nbformat": 4,
 "nbformat_minor": 0
}